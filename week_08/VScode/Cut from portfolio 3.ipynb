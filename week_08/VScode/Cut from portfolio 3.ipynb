{
 "cells": [
  {
   "cell_type": "code",
   "execution_count": null,
   "metadata": {},
   "outputs": [],
   "source": [
    "# Things to change the grid interval, taken from the following site: https://www.pythoncharts.com/matplotlib/customizing-grid-matplotlib/\n",
    "\n",
    "# Major ticks every 20, minor ticks every 5\n",
    "major_ticks_x = np.arange(0, 101, 20)\n",
    "minor_ticks_x = np.arange(0, 101, 5)\n",
    "\n",
    "major_ticks_y = np.arange(0, 101, 20)\n",
    "minor_ticks_y = np.arange(0, 101, 5)\n",
    "\n",
    "ax.set_xticks(major_ticks)\n",
    "ax.set_xticks(minor_ticks, minor=True)\n",
    "ax.set_yticks(major_ticks)\n",
    "ax.set_yticks(minor_ticks, minor=True)\n",
    "\n",
    "\n",
    "\n",
    "\"\"\"\n",
    "Code below is a try on specifying the grid of the plot\n",
    "\n",
    "ax = fig.add_subplot(1, 1, 1)\n",
    "\n",
    "# Major ticks every 20, minor ticks every 5\n",
    "major_ticks = np.arange(0, 101, 20)\n",
    "minor_ticks = np.arange(0, 101, 5)\n",
    "\n",
    "ax.set_xticks(major_ticks)\n",
    "ax.set_xticks(minor_ticks, minor=True)\n",
    "ax.set_yticks(major_ticks)\n",
    "ax.set_yticks(minor_ticks, minor=True)\n",
    "\n",
    "# And a corresponding grid\n",
    "ax.grid(which='both')\n",
    "\n",
    "# Or if you want different settings for the grids:\n",
    "ax.grid(which='minor', alpha=0.2)\n",
    "ax.grid(which='major', alpha=0.5)\n",
    "\n",
    "\"\"\""
   ]
  }
 ],
 "metadata": {
  "language_info": {
   "name": "python"
  },
  "orig_nbformat": 4
 },
 "nbformat": 4,
 "nbformat_minor": 2
}
